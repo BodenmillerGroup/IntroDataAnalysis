{
 "cells": [
  {
   "cell_type": "markdown",
   "metadata": {
    "slideshow": {
     "slide_type": "slide"
    }
   },
   "source": [
    "# Introduction\n",
    "\n",
    "## Recap last session\n",
    "\n",
    "- Types\n",
    "- Operators\n",
    "- User input\n",
    "- Control flow\n",
    "  - Conditional execution (if)\n",
    "  - Repetitive execution (while, for)\n",
    "- Sequence types: `list` `tuple` `dict`\n",
    "- Character strings\n",
    "- Dictionaries"
   ]
  },
  {
   "cell_type": "markdown",
   "metadata": {
    "slideshow": {
     "slide_type": "slide"
    }
   },
   "source": [
    "## Questions & feedback\n",
    "\n",
    "- Code structure --> separate session\n",
    "- Choice of packages --> separate session  \n",
    "  https://www.awesome-python.com\n",
    "- Session format --> live coding\n",
    "- Printing in Spyder"
   ]
  },
  {
   "cell_type": "markdown",
   "metadata": {
    "slideshow": {
     "slide_type": "slide"
    }
   },
   "source": [
    "<img src=\"img/spyder.png\">"
   ]
  },
  {
   "cell_type": "markdown",
   "metadata": {
    "slideshow": {
     "slide_type": "slide"
    }
   },
   "source": [
    "## Contents of this session\n",
    "\n",
    "- Finishing up last session\n",
    "  - Functions\n",
    "  - Packages & modules\n",
    "- What's missing?\n",
    "- The numpy package\n",
    "- The matplotlib package\n",
    "\n",
    "Prerequisites: Python basics\n",
    "\n",
    "Questions: please interrupt :-)\n",
    "\n",
    "Format: live coding in Spyder  \n",
    "Use Spyder or Jupyter Notebook"
   ]
  },
  {
   "cell_type": "markdown",
   "metadata": {
    "slideshow": {
     "slide_type": "slide"
    }
   },
   "source": [
    "# Finishing up last session\n",
    "\n",
    "- Functions\n",
    "- Packages & modules"
   ]
  },
  {
   "cell_type": "markdown",
   "metadata": {
    "slideshow": {
     "slide_type": "slide"
    }
   },
   "source": [
    "# What's missing?"
   ]
  },
  {
   "cell_type": "markdown",
   "metadata": {
    "slideshow": {
     "slide_type": "slide"
    }
   },
   "source": [
    "## Exception handling"
   ]
  },
  {
   "cell_type": "code",
   "execution_count": 1,
   "metadata": {
    "slideshow": {
     "slide_type": "-"
    }
   },
   "outputs": [
    {
     "name": "stdout",
     "output_type": "stream",
     "text": [
      "Division by zero\n"
     ]
    }
   ],
   "source": [
    "try:\n",
    "    x = 12 / 0\n",
    "except ZeroDivisionError:\n",
    "    print(\"Division by zero\")"
   ]
  },
  {
   "cell_type": "markdown",
   "metadata": {
    "slideshow": {
     "slide_type": "slide"
    }
   },
   "source": [
    "## Lambda expressions"
   ]
  },
  {
   "cell_type": "code",
   "execution_count": 2,
   "metadata": {
    "slideshow": {
     "slide_type": "-"
    }
   },
   "outputs": [
    {
     "name": "stdout",
     "output_type": "stream",
     "text": [
      "[9, 16, 25]\n"
     ]
    }
   ],
   "source": [
    "l1 = [1, 2, 3, 4, 5]\n",
    "l2 = filter(lambda x: x > 2, l1)\n",
    "l3 = map(lambda x: x ** 2, l2)\n",
    "print(list(l3))"
   ]
  },
  {
   "cell_type": "markdown",
   "metadata": {
    "slideshow": {
     "slide_type": "slide"
    }
   },
   "source": [
    "## List comprehension"
   ]
  },
  {
   "cell_type": "code",
   "execution_count": 3,
   "metadata": {
    "slideshow": {
     "slide_type": "-"
    }
   },
   "outputs": [
    {
     "name": "stdout",
     "output_type": "stream",
     "text": [
      "[9, 16, 25]\n"
     ]
    }
   ],
   "source": [
    "l1 = [1, 2, 3, 4, 5]\n",
    "l2 = [x ** 2 for x in l1 if x > 2]\n",
    "print(l2)"
   ]
  },
  {
   "cell_type": "markdown",
   "metadata": {
    "slideshow": {
     "slide_type": "slide"
    }
   },
   "source": [
    "## Object-oriented programming"
   ]
  },
  {
   "cell_type": "code",
   "execution_count": 4,
   "metadata": {
    "slideshow": {
     "slide_type": "-"
    }
   },
   "outputs": [
    {
     "name": "stdout",
     "output_type": "stream",
     "text": [
      "Fluffy the Dog\n",
      "Fluffy barks\n",
      "Pavlov the Dog\n",
      "Pavlov barks\n"
     ]
    }
   ],
   "source": [
    "# Object-oriented programming\n",
    "\n",
    "class Dog:\n",
    "    species = \"mammal\"\n",
    "    \n",
    "    def __init__(self, name):\n",
    "        self.name = name\n",
    "        \n",
    "    def __str__(self):\n",
    "        return self.name + \" the Dog\"\n",
    "    \n",
    "    def bark(self):\n",
    "        print(self.name, \"barks\")\n",
    "        \n",
    "fluffy = Dog(\"Fluffy\")\n",
    "print(fluffy)\n",
    "fluffy.bark()\n",
    "\n",
    "pavlov = Dog(\"Pavlov\")\n",
    "print(pavlov)\n",
    "pavlov.bark()"
   ]
  },
  {
   "cell_type": "markdown",
   "metadata": {
    "slideshow": {
     "slide_type": "slide"
    }
   },
   "source": [
    "## And (not) much more...\n",
    "\n",
    "Iterators, generators, context managers, concurrent/asynchronous execution, ..."
   ]
  },
  {
   "cell_type": "markdown",
   "metadata": {
    "slideshow": {
     "slide_type": "slide"
    }
   },
   "source": [
    "## The scipy universe\n",
    "\n",
    "https://www.scipy.org\n",
    "\n",
    "Python-based ecosystem of open-source software for mathematics, science, and engineering\n",
    "\n",
    "- **NumPy: Base N-dimensional array package**\n",
    "- SciPy library: Fundamental library for scientific computing\n",
    "- **Matplotlib: Comprehensive 2-D plotting**\n",
    "- *IPython: Enhanced interactive console*\n",
    "- SymPy: Symbolic mathematics\n",
    "- **pandas: Data structures & analysis**"
   ]
  },
  {
   "cell_type": "markdown",
   "metadata": {
    "slideshow": {
     "slide_type": "slide"
    }
   },
   "source": [
    "# The numpy package"
   ]
  },
  {
   "cell_type": "markdown",
   "metadata": {},
   "source": [
    "Copied from https://numpy.org:\n",
    "\n",
    "> NumPy is the fundamental package for scientific computing with Python. It contains among other things:\n",
    "- a powerful N-dimensional array object\n",
    "- sophisticated (broadcasting) functions\n",
    "- tools for integrating C/C++ and Fortran code\n",
    "- useful linear algebra, Fourier transform, and random number capabilities\n",
    "\n",
    "Using NumPy in Python gives functionality comparable to MATLAB, see [Numpy for Matlab users](https://docs.scipy.org/doc/numpy/user/numpy-for-matlab-users.html). The numpy package comes pre-installed with Anaconda for Python 3.7.\n",
    "\n",
    "Numpy reference: https://docs.scipy.org/doc/numpy/reference/"
   ]
  },
  {
   "cell_type": "code",
   "execution_count": 5,
   "metadata": {},
   "outputs": [],
   "source": [
    "import numpy as np  # by convention, the numpy package is imported as np"
   ]
  },
  {
   "cell_type": "markdown",
   "metadata": {
    "slideshow": {
     "slide_type": "slide"
    }
   },
   "source": [
    "## Numpy arrays\n",
    "\n",
    "For readability purposes, numpy arrays are called *arrays* from here on."
   ]
  },
  {
   "cell_type": "code",
   "execution_count": 6,
   "metadata": {
    "slideshow": {
     "slide_type": "-"
    }
   },
   "outputs": [
    {
     "name": "stdout",
     "output_type": "stream",
     "text": [
      "[1 2 3 4]\n"
     ]
    }
   ],
   "source": [
    "a = np.array([1, 2, 3, 4])  # convert list to array\n",
    "print(a)"
   ]
  },
  {
   "cell_type": "code",
   "execution_count": 7,
   "metadata": {
    "slideshow": {
     "slide_type": "-"
    }
   },
   "outputs": [
    {
     "name": "stdout",
     "output_type": "stream",
     "text": [
      "6\n"
     ]
    }
   ],
   "source": [
    "a[3] = 6\n",
    "print(a[3])"
   ]
  },
  {
   "cell_type": "code",
   "execution_count": 8,
   "metadata": {
    "slideshow": {
     "slide_type": "-"
    }
   },
   "outputs": [
    {
     "name": "stdout",
     "output_type": "stream",
     "text": [
      "4\n"
     ]
    }
   ],
   "source": [
    "print(len(a))  # the lenght of numpy arrays is fixed!"
   ]
  },
  {
   "cell_type": "markdown",
   "metadata": {
    "slideshow": {
     "slide_type": "slide"
    }
   },
   "source": [
    "### Shape"
   ]
  },
  {
   "cell_type": "markdown",
   "metadata": {
    "slideshow": {
     "slide_type": "-"
    }
   },
   "source": [
    "Numpy arrays have a fixed shape, determining the size of each dimension."
   ]
  },
  {
   "cell_type": "code",
   "execution_count": 9,
   "metadata": {
    "slideshow": {
     "slide_type": "-"
    }
   },
   "outputs": [
    {
     "name": "stdout",
     "output_type": "stream",
     "text": [
      "[[0 1 2]\n",
      " [3 4 5]]\n"
     ]
    }
   ],
   "source": [
    "a = np.array([[0, 1, 2], [3, 4, 5]])  # convert list of lists to 2D array\n",
    "print(a)"
   ]
  },
  {
   "cell_type": "code",
   "execution_count": 10,
   "metadata": {
    "slideshow": {
     "slide_type": "-"
    }
   },
   "outputs": [
    {
     "name": "stdout",
     "output_type": "stream",
     "text": [
      "(2, 3)\n"
     ]
    }
   ],
   "source": [
    "print(a.shape)  # 2D shapes are interpreted as (rows, cols) only when printing!"
   ]
  },
  {
   "cell_type": "code",
   "execution_count": 11,
   "metadata": {
    "slideshow": {
     "slide_type": "-"
    }
   },
   "outputs": [
    {
     "name": "stdout",
     "output_type": "stream",
     "text": [
      "[list([0, 1, 2]) list([3, 4])]\n"
     ]
    }
   ],
   "source": [
    "a = np.array([[0, 1, 2], [3, 4]])  # sublists of different lengths --> 1D array\n",
    "print(a)"
   ]
  },
  {
   "cell_type": "code",
   "execution_count": 12,
   "metadata": {
    "slideshow": {
     "slide_type": "-"
    }
   },
   "outputs": [
    {
     "name": "stdout",
     "output_type": "stream",
     "text": [
      "(2,)\n"
     ]
    }
   ],
   "source": [
    "print(a.shape)"
   ]
  },
  {
   "cell_type": "markdown",
   "metadata": {
    "slideshow": {
     "slide_type": "slide"
    }
   },
   "source": [
    "### Data type"
   ]
  },
  {
   "cell_type": "markdown",
   "metadata": {
    "slideshow": {
     "slide_type": "-"
    }
   },
   "source": [
    "NumPy supports a [much greater variety of numerical types](https://numpy.org/doc/1.18/user/basics.types.html) than Python does natively. Numpy data types are closely related to C data types, as numpy is implemented in C.\n",
    "\n",
    "Primitive data types (e.g. `np.int_` `np.double`) and fixed-sized aliases (e.g. `np.int64` `np.float64`) exist.\n",
    "\n",
    "All elements within a numpy array have the same numpy data type."
   ]
  },
  {
   "cell_type": "code",
   "execution_count": 13,
   "metadata": {
    "slideshow": {
     "slide_type": "-"
    }
   },
   "outputs": [
    {
     "name": "stdout",
     "output_type": "stream",
     "text": [
      "<class 'numpy.ndarray'>\n",
      "int64\n"
     ]
    }
   ],
   "source": [
    "a = np.array([1, 2, 3, 4])\n",
    "print(type(a))\n",
    "print(a.dtype)"
   ]
  },
  {
   "cell_type": "code",
   "execution_count": 14,
   "metadata": {
    "slideshow": {
     "slide_type": "-"
    }
   },
   "outputs": [
    {
     "name": "stdout",
     "output_type": "stream",
     "text": [
      "<class 'numpy.ndarray'>\n",
      "float64\n"
     ]
    }
   ],
   "source": [
    "a = np.array([1, 2.5, 3, 4.5])  # ints will be converted to floats\n",
    "print(type(a))\n",
    "print(a.dtype)"
   ]
  },
  {
   "cell_type": "markdown",
   "metadata": {
    "slideshow": {
     "slide_type": "slide"
    }
   },
   "source": [
    "## Array creation"
   ]
  },
  {
   "cell_type": "code",
   "execution_count": 15,
   "metadata": {
    "slideshow": {
     "slide_type": "-"
    }
   },
   "outputs": [
    {
     "name": "stdout",
     "output_type": "stream",
     "text": [
      "[[0. 1. 2.]\n",
      " [3. 4. 5.]]\n"
     ]
    }
   ],
   "source": [
    "a = np.array([[0, 1, 2], [3, 4, 5]], dtype=np.float64)\n",
    "print(a)"
   ]
  },
  {
   "cell_type": "code",
   "execution_count": 16,
   "metadata": {
    "slideshow": {
     "slide_type": "-"
    }
   },
   "outputs": [
    {
     "name": "stdout",
     "output_type": "stream",
     "text": [
      "[[0. 0. 0. ... 0. 0. 0.]\n",
      " [0. 0. 0. ... 0. 0. 0.]\n",
      " [0. 0. 0. ... 0. 0. 0.]\n",
      " ...\n",
      " [0. 0. 0. ... 0. 0. 0.]\n",
      " [0. 0. 0. ... 0. 0. 0.]\n",
      " [0. 0. 0. ... 0. 0. 0.]]\n"
     ]
    }
   ],
   "source": [
    "a = np.empty((800, 600))  # not initialized!\n",
    "print(a)"
   ]
  },
  {
   "cell_type": "code",
   "execution_count": 17,
   "metadata": {
    "slideshow": {
     "slide_type": "slide"
    }
   },
   "outputs": [
    {
     "name": "stdout",
     "output_type": "stream",
     "text": [
      "[[0. 0. 0. ... 0. 0. 0.]\n",
      " [0. 0. 0. ... 0. 0. 0.]\n",
      " [0. 0. 0. ... 0. 0. 0.]\n",
      " ...\n",
      " [0. 0. 0. ... 0. 0. 0.]\n",
      " [0. 0. 0. ... 0. 0. 0.]\n",
      " [0. 0. 0. ... 0. 0. 0.]]\n"
     ]
    }
   ],
   "source": [
    "a = np.zeros((800, 600))\n",
    "print(a)"
   ]
  },
  {
   "cell_type": "code",
   "execution_count": 18,
   "metadata": {
    "slideshow": {
     "slide_type": "-"
    }
   },
   "outputs": [
    {
     "name": "stdout",
     "output_type": "stream",
     "text": [
      "[[1. 1. 1. ... 1. 1. 1.]\n",
      " [1. 1. 1. ... 1. 1. 1.]\n",
      " [1. 1. 1. ... 1. 1. 1.]\n",
      " ...\n",
      " [1. 1. 1. ... 1. 1. 1.]\n",
      " [1. 1. 1. ... 1. 1. 1.]\n",
      " [1. 1. 1. ... 1. 1. 1.]]\n"
     ]
    }
   ],
   "source": [
    "a = np.ones((800, 600))\n",
    "print(a)"
   ]
  },
  {
   "cell_type": "code",
   "execution_count": 19,
   "metadata": {
    "slideshow": {
     "slide_type": "-"
    }
   },
   "outputs": [
    {
     "name": "stdout",
     "output_type": "stream",
     "text": [
      "[[7 7 7 ... 7 7 7]\n",
      " [7 7 7 ... 7 7 7]\n",
      " [7 7 7 ... 7 7 7]\n",
      " ...\n",
      " [7 7 7 ... 7 7 7]\n",
      " [7 7 7 ... 7 7 7]\n",
      " [7 7 7 ... 7 7 7]]\n"
     ]
    }
   ],
   "source": [
    "a = np.full((800, 600), 7)\n",
    "print(a)"
   ]
  },
  {
   "cell_type": "code",
   "execution_count": 20,
   "metadata": {
    "slideshow": {
     "slide_type": "slide"
    }
   },
   "outputs": [
    {
     "name": "stdout",
     "output_type": "stream",
     "text": [
      "[ 0  3  6  9 12 15 18 21 24 27 30 33 36 39 42 45 48 51 54 57 60 63 66 69\n",
      " 72 75 78 81 84 87 90 93 96 99]\n"
     ]
    }
   ],
   "source": [
    "a = np.arange(0, 100, 3)  # numbers in the range [0, 100) with step size 3\n",
    "print(a)"
   ]
  },
  {
   "cell_type": "code",
   "execution_count": 21,
   "metadata": {
    "slideshow": {
     "slide_type": "-"
    }
   },
   "outputs": [
    {
     "name": "stdout",
     "output_type": "stream",
     "text": [
      "[  0.  50. 100.]\n"
     ]
    }
   ],
   "source": [
    "a = np.linspace(0, 100, 3)  # 3 numbers in the range [0, 100]\n",
    "print(a)"
   ]
  },
  {
   "cell_type": "markdown",
   "metadata": {
    "slideshow": {
     "slide_type": "slide"
    }
   },
   "source": [
    "## Array indexing"
   ]
  },
  {
   "cell_type": "code",
   "execution_count": 22,
   "metadata": {
    "slideshow": {
     "slide_type": "-"
    }
   },
   "outputs": [
    {
     "name": "stdout",
     "output_type": "stream",
     "text": [
      "[ 0  1  2  3  4  5  6  7  8  9 10 11 12 13 14 15 16 17 18 19 20 21 22 23\n",
      " 24 25 26 27 28 29 30 31 32 33 34 35 36 37 38 39 40 41 42 43 44 45 46 47\n",
      " 48 49]\n"
     ]
    }
   ],
   "source": [
    "a = np.arange(0, 50)\n",
    "print(a)"
   ]
  },
  {
   "cell_type": "code",
   "execution_count": 23,
   "metadata": {
    "slideshow": {
     "slide_type": "-"
    }
   },
   "outputs": [
    {
     "name": "stdout",
     "output_type": "stream",
     "text": [
      "[[ 0  1  2  3  4  5  6  7  8  9]\n",
      " [10 11 12 13 14 15 16 17 18 19]\n",
      " [20 21 22 23 24 25 26 27 28 29]\n",
      " [30 31 32 33 34 35 36 37 38 39]\n",
      " [40 41 42 43 44 45 46 47 48 49]]\n"
     ]
    }
   ],
   "source": [
    "a.shape = (5, 10)  # reshape the array to two dimensions\n",
    "print(a)"
   ]
  },
  {
   "cell_type": "code",
   "execution_count": 24,
   "metadata": {
    "slideshow": {
     "slide_type": "slide"
    }
   },
   "outputs": [
    {
     "name": "stdout",
     "output_type": "stream",
     "text": [
      "12\n"
     ]
    }
   ],
   "source": [
    "print(a[1, 2])  # cf. list of lists: a[1][2]"
   ]
  },
  {
   "cell_type": "code",
   "execution_count": 25,
   "metadata": {
    "slideshow": {
     "slide_type": "-"
    }
   },
   "outputs": [
    {
     "name": "stdout",
     "output_type": "stream",
     "text": [
      "first row: [0 1 2 3 4 5 6 7 8 9]\n",
      "first column: [ 0 10 20 30 40]\n"
     ]
    }
   ],
   "source": [
    "print('first row:', a[0, :])\n",
    "print('first column:', a[:, 0])"
   ]
  },
  {
   "cell_type": "code",
   "execution_count": 26,
   "metadata": {
    "slideshow": {
     "slide_type": "-"
    }
   },
   "outputs": [
    {
     "name": "stdout",
     "output_type": "stream",
     "text": [
      "[[11 12 13 14 15 16 17 18]\n",
      " [21 22 23 24 25 26 27 28]\n",
      " [31 32 33 34 35 36 37 38]]\n"
     ]
    }
   ],
   "source": [
    "central_elements = a[1:-1, 1:-1]\n",
    "print(central_elements)"
   ]
  },
  {
   "cell_type": "code",
   "execution_count": 27,
   "metadata": {
    "slideshow": {
     "slide_type": "slide"
    }
   },
   "outputs": [
    {
     "name": "stdout",
     "output_type": "stream",
     "text": [
      "[[ 0  1  2  3  4  5  6  7  8  9]\n",
      " [20 21 22 23 24 25 26 27 28 29]\n",
      " [40 41 42 43 44 45 46 47 48 49]]\n"
     ]
    }
   ],
   "source": [
    "row_indices = [0, 2, 4]\n",
    "print(a[row_indices, :])"
   ]
  },
  {
   "cell_type": "code",
   "execution_count": 28,
   "metadata": {
    "slideshow": {
     "slide_type": "slide"
    }
   },
   "outputs": [
    {
     "name": "stdout",
     "output_type": "stream",
     "text": [
      "[[ True False  True False  True False  True False  True False]\n",
      " [ True  True  True  True  True  True  True  True  True  True]\n",
      " [ True False  True False  True False  True False  True False]\n",
      " [ True  True  True  True  True  True  True  True  True  True]\n",
      " [ True False  True False  True False  True False  True False]]\n"
     ]
    }
   ],
   "source": [
    "mask = np.ones(a.shape, dtype=np.bool_)  # note the np.bool_ data type\n",
    "mask[::2, 1::2] = False  # every 2nd row, every 2nd col starting from index 1\n",
    "print(mask)"
   ]
  },
  {
   "cell_type": "code",
   "execution_count": 29,
   "metadata": {
    "slideshow": {
     "slide_type": "-"
    }
   },
   "outputs": [
    {
     "name": "stdout",
     "output_type": "stream",
     "text": [
      "[ 0  2  4  6  8 10 11 12 13 14 15 16 17 18 19 20 22 24 26 28 30 31 32 33\n",
      " 34 35 36 37 38 39 40 42 44 46 48]\n"
     ]
    }
   ],
   "source": [
    "print(a[mask])"
   ]
  },
  {
   "cell_type": "code",
   "execution_count": 30,
   "metadata": {
    "slideshow": {
     "slide_type": "slide"
    }
   },
   "outputs": [
    {
     "name": "stdout",
     "output_type": "stream",
     "text": [
      "[[ 0  1  0  3  0  5  0  7  0  9]\n",
      " [ 0  0  0  0  0  0  0  0  0  0]\n",
      " [ 0 21  0 23  0 25  0 27  0 29]\n",
      " [ 0  0  0  0  0  0  0  0  0  0]\n",
      " [ 0 41  0 43  0 45  0 47  0 49]]\n"
     ]
    }
   ],
   "source": [
    "a[mask] = 0\n",
    "print(a)"
   ]
  },
  {
   "cell_type": "code",
   "execution_count": 31,
   "metadata": {
    "slideshow": {
     "slide_type": "-"
    }
   },
   "outputs": [
    {
     "name": "stdout",
     "output_type": "stream",
     "text": [
      "[[ 1  1  1  3  0  5  0  7  0  9]\n",
      " [ 1  1  1  0  0  0  0  0  0  0]\n",
      " [ 1  1  1 23  0 25  0 27  0 29]\n",
      " [ 0  0  0  0  0  0  0  0  0  0]\n",
      " [ 0 41  0 43  0 45  0 47  0 49]]\n"
     ]
    }
   ],
   "source": [
    "a[0:3, 0:3] = np.ones((3, 3))\n",
    "print(a)"
   ]
  },
  {
   "cell_type": "markdown",
   "metadata": {
    "slideshow": {
     "slide_type": "slide"
    }
   },
   "source": [
    "## numpy.random\n",
    "\n",
    "Contains function for random sampling from various distributions\n",
    "\n",
    "Good quick introduction: https://cs231n.github.io/python-numpy-tutorial/\n",
    "\n",
    "https://numpy.org/doc/1.18/reference/random/generator.html\n",
    "\n",
    "There exists a similar, but independent `random` module in the Python Standard Library."
   ]
  },
  {
   "cell_type": "code",
   "execution_count": 32,
   "metadata": {
    "slideshow": {
     "slide_type": "slide"
    }
   },
   "outputs": [
    {
     "name": "stdout",
     "output_type": "stream",
     "text": [
      "[[-0.98912135 -0.36778665  1.28792526  0.19397442  0.9202309 ]\n",
      " [ 0.57710379 -0.63646365  0.54195222 -0.31659545 -0.32238912]\n",
      " [ 0.09716732 -1.52593041  1.1921661  -0.67108968  1.00026942]\n",
      " [ 0.13632112  1.53203308 -0.65996941 -0.31179486  0.33776913]\n",
      " [-2.2074711   0.82792144  1.54163039  1.12680679  0.75476964]\n",
      " [-0.14597789  1.28190223  1.07403062  0.39262084  0.00511431]\n",
      " [-0.36176687 -1.2302322   1.22622929 -2.17204389 -0.37014735]\n",
      " [ 0.16438007  0.85988118  1.76166124  0.99332378 -0.29152143]\n",
      " [ 0.72812756 -1.26160032  1.42993853 -0.15647532 -0.67375915]\n",
      " [-0.6390601  -0.06136133 -0.39278492  2.28990995 -0.71818115]]\n"
     ]
    }
   ],
   "source": [
    "from numpy.random import default_rng\n",
    "\n",
    "rng = default_rng(seed=123)  # only sets the seed of rng!\n",
    "\n",
    "a = rng.normal(size=(10, 5))\n",
    "print(a)"
   ]
  },
  {
   "cell_type": "code",
   "execution_count": 33,
   "metadata": {
    "slideshow": {
     "slide_type": "slide"
    }
   },
   "outputs": [
    {
     "name": "stdout",
     "output_type": "stream",
     "text": [
      "[[-1.0856306   0.99734545  0.2829785  -1.50629471 -0.57860025]\n",
      " [ 1.65143654 -2.42667924 -0.42891263  1.26593626 -0.8667404 ]\n",
      " [-0.67888615 -0.09470897  1.49138963 -0.638902   -0.44398196]\n",
      " [-0.43435128  2.20593008  2.18678609  1.0040539   0.3861864 ]\n",
      " [ 0.73736858  1.49073203 -0.93583387  1.17582904 -1.25388067]\n",
      " [-0.6377515   0.9071052  -1.4286807  -0.14006872 -0.8617549 ]\n",
      " [-0.25561937 -2.79858911 -1.7715331  -0.69987723  0.92746243]\n",
      " [-0.17363568  0.00284592  0.68822271 -0.87953634  0.28362732]\n",
      " [-0.80536652 -1.72766949 -0.39089979  0.57380586  0.33858905]\n",
      " [-0.01183049  2.39236527  0.41291216  0.97873601  2.23814334]]\n"
     ]
    }
   ],
   "source": [
    "# Legacy code - don't do this anymore (worse statistical properties!)\n",
    "\n",
    "from numpy import random  # can be confused with the PSL random module!\n",
    "\n",
    "random.seed(123)\n",
    "\n",
    "a = random.normal(size=(10, 5))\n",
    "print(a)"
   ]
  },
  {
   "cell_type": "markdown",
   "metadata": {
    "slideshow": {
     "slide_type": "slide"
    }
   },
   "source": [
    "## Basic operations\n",
    "\n",
    "Arithmetic operators on arrays apply **elementwise**!"
   ]
  },
  {
   "cell_type": "code",
   "execution_count": 34,
   "metadata": {
    "slideshow": {
     "slide_type": "-"
    }
   },
   "outputs": [
    {
     "name": "stdout",
     "output_type": "stream",
     "text": [
      "[[-0.98912135 -0.36778665  1.28792526]\n",
      " [ 0.19397442  0.9202309   0.57710379]\n",
      " [-0.63646365  0.54195222 -0.31659545]\n",
      " [-0.32238912  0.09716732 -1.52593041]]\n",
      "[[ 1.1921661  -0.67108968  1.00026942]\n",
      " [ 0.13632112  1.53203308 -0.65996941]\n",
      " [-0.31179486  0.33776913 -2.2074711 ]\n",
      " [ 0.82792144  1.54163039  1.12680679]]\n"
     ]
    }
   ],
   "source": [
    "rng = default_rng(seed=123)\n",
    "\n",
    "a = rng.normal(size=(4, 3))\n",
    "b = rng.normal(size=(4, 3))\n",
    "print(a)\n",
    "print(b)"
   ]
  },
  {
   "cell_type": "code",
   "execution_count": 35,
   "metadata": {
    "slideshow": {
     "slide_type": "-"
    }
   },
   "outputs": [
    {
     "name": "stdout",
     "output_type": "stream",
     "text": [
      "[[1.01087865 1.63221335 3.28792526]\n",
      " [2.19397442 2.9202309  2.57710379]\n",
      " [1.36353635 2.54195222 1.68340455]\n",
      " [1.67761088 2.09716732 0.47406959]]\n"
     ]
    }
   ],
   "source": [
    "print(a + 2)  # broadcasts 2 (\"adds two to every element\") --> retains shape"
   ]
  },
  {
   "cell_type": "code",
   "execution_count": 36,
   "metadata": {
    "slideshow": {
     "slide_type": "slide"
    }
   },
   "outputs": [
    {
     "name": "stdout",
     "output_type": "stream",
     "text": [
      "[[       nan        nan 1.28801306]\n",
      " [0.79965844 0.88041761 1.43735851]\n",
      " [       nan 0.81309303        nan]\n",
      " [       nan 0.02748719        nan]]\n"
     ]
    },
    {
     "name": "stderr",
     "output_type": "stream",
     "text": [
      "/home/jonas/miniconda3/envs/bbintro/lib/python3.7/site-packages/ipykernel_launcher.py:1: RuntimeWarning: invalid value encountered in power\n",
      "  \"\"\"Entry point for launching an IPython kernel.\n"
     ]
    }
   ],
   "source": [
    "print(a ** b)  # shapes of a and b need to be compatible (broadcastable)"
   ]
  },
  {
   "cell_type": "code",
   "execution_count": 37,
   "metadata": {
    "slideshow": {
     "slide_type": "-"
    }
   },
   "outputs": [
    {
     "name": "stdout",
     "output_type": "stream",
     "text": [
      "[[ -9.8912135   -7.35573303  38.63775784]\n",
      " [  1.93974419  18.40461799  17.31311374]\n",
      " [ -6.36463646  10.83904441  -9.49786353]\n",
      " [ -3.22389116   1.94334637 -45.7779122 ]]\n",
      "[[-0.98912135 -0.36778665  1.28792526]\n",
      " [ 0.38794884  1.8404618   1.15420758]\n",
      " [-1.90939094  1.62585666 -0.94978635]\n",
      " [-1.28955646  0.38866927 -6.10372163]]\n"
     ]
    }
   ],
   "source": [
    "# broadcasting: https://docs.scipy.org/doc/numpy/user/basics.broadcasting.html\n",
    "\n",
    "row_factors = np.array([1, 2, 3, 4])\n",
    "col_factors = np.array([10, 20, 30])\n",
    "\n",
    "# multiply every column (match shapes starting from the innermost dimension)\n",
    "print(a * col_factors)\n",
    "\n",
    "# multiply every row (None introduces \"fake\" column dimension of size 1)\n",
    "print(a * row_factors[:, None])"
   ]
  },
  {
   "cell_type": "code",
   "execution_count": 38,
   "metadata": {
    "slideshow": {
     "slide_type": "slide"
    }
   },
   "outputs": [
    {
     "name": "stdout",
     "output_type": "stream",
     "text": [
      "[[-1.17919695  0.24681782  1.28827225]\n",
      " [ 0.02644281  1.40982418 -0.38087085]\n",
      " [ 0.19844609  0.18305473  0.69887531]\n",
      " [-0.26691286  0.14979609 -1.71942875]]\n",
      "[[ 0.35589313 -1.54829073 -2.65888182  0.06533708]\n",
      " [ 0.19095155  1.05539614 -1.02359458  2.22953598]\n",
      " [-1.43914967  0.9524686   1.08037613 -0.04819379]\n",
      " [-1.97589088  1.1119825   3.50178666 -1.83654552]]\n"
     ]
    }
   ],
   "source": [
    "print(a * b)  # elementwise product!\n",
    "\n",
    "b_transposed = b.T\n",
    "print(a @ b.T)  # new operator: matrix product, alternative: a.dot(b)"
   ]
  },
  {
   "cell_type": "code",
   "execution_count": 39,
   "metadata": {
    "slideshow": {
     "slide_type": "slide"
    }
   },
   "outputs": [
    {
     "name": "stdout",
     "output_type": "stream",
     "text": [
      "-0.5399327116307213\n",
      "[[0.37190332 0.69226486 3.62525729]\n",
      " [1.21406523 2.50986985 1.78087317]\n",
      " [0.52916042 1.71936016 0.72862546]\n",
      " [0.72441625 1.10204475 0.21741867]]\n",
      "[[        nan         nan  0.2530326 ]\n",
      " [-1.64002899 -0.08313066 -0.54973315]\n",
      " [        nan -0.61257744         nan]\n",
      " [        nan -2.33132085         nan]]\n"
     ]
    },
    {
     "name": "stderr",
     "output_type": "stream",
     "text": [
      "/home/jonas/miniconda3/envs/bbintro/lib/python3.7/site-packages/ipykernel_launcher.py:3: RuntimeWarning: invalid value encountered in log\n",
      "  This is separate from the ipykernel package so we can avoid doing imports until\n"
     ]
    }
   ],
   "source": [
    "print(np.sum(a))\n",
    "print(np.exp(a))  \n",
    "print(np.log(a))\n",
    "# ... many more"
   ]
  },
  {
   "cell_type": "code",
   "execution_count": 40,
   "metadata": {
    "slideshow": {
     "slide_type": "slide"
    }
   },
   "outputs": [
    {
     "name": "stdout",
     "output_type": "stream",
     "text": [
      "[[False False  True]\n",
      " [ True  True  True]\n",
      " [False  True False]\n",
      " [False  True False]]\n"
     ]
    }
   ],
   "source": [
    "print(a > 0)  # elementwise comparisons yield boolean masks"
   ]
  },
  {
   "cell_type": "code",
   "execution_count": 41,
   "metadata": {
    "slideshow": {
     "slide_type": "-"
    }
   },
   "outputs": [
    {
     "name": "stdout",
     "output_type": "stream",
     "text": [
      "[1.28792526 0.19397442 0.9202309  0.57710379 0.54195222 0.09716732]\n"
     ]
    }
   ],
   "source": [
    "print(a[a > 0])"
   ]
  },
  {
   "cell_type": "markdown",
   "metadata": {
    "slideshow": {
     "slide_type": "slide"
    }
   },
   "source": [
    "## Concluding remarks\n",
    "\n",
    "Arrays can be n-dimensional, not just 1D or 2D\n",
    "\n",
    "Why use numpy arrays?\n",
    "- Much faster (vectorization)\n",
    "- Much more memory efficient (fixed shape & data type)\n",
    "- Basic operations provided by the numpy package\n",
    "\n",
    "Numpy replacement for deep learning/GPUs: [PyTorch](https://pytorch.org)\n",
    "\n",
    "Copies versus views:  \n",
    "https://docs.scipy.org/doc/numpy/user/quickstart.html#copies-and-views"
   ]
  },
  {
   "cell_type": "code",
   "execution_count": 42,
   "metadata": {
    "slideshow": {
     "slide_type": "slide"
    }
   },
   "outputs": [
    {
     "name": "stdout",
     "output_type": "stream",
     "text": [
      "(12,)\n",
      "(3, 4)\n"
     ]
    }
   ],
   "source": [
    "a = np.arange(12)\n",
    "print(a.shape)\n",
    "b = a  # no new object is created!\n",
    "b.shape = (3, 4)  # changes the shape of a\n",
    "print(a.shape)"
   ]
  },
  {
   "cell_type": "code",
   "execution_count": 43,
   "metadata": {
    "slideshow": {
     "slide_type": "-"
    }
   },
   "outputs": [
    {
     "name": "stdout",
     "output_type": "stream",
     "text": [
      "(12,)\n",
      "(12,)\n"
     ]
    }
   ],
   "source": [
    "a = np.arange(12)\n",
    "print(a.shape)\n",
    "b = a[:]  # indexing always returns a new array\n",
    "b.shape = (3, 4)  # does not change the shape of a\n",
    "print(a.shape)"
   ]
  },
  {
   "cell_type": "markdown",
   "metadata": {
    "slideshow": {
     "slide_type": "slide"
    }
   },
   "source": [
    "# The matplotlib package\n",
    "\n",
    "Matplotlib is a comprehensive library for creating visualizations in Python.\n",
    "\n",
    "**Online resources**:\n",
    "- [Gallery](https://matplotlib.org/gallery/)\n",
    "- [Tutorials](https://matplotlib.org/tutorials/)\n",
    "- [Documentation](https://matplotlib.org/api/) (advice: use google for searching docs)\n",
    "\n",
    "**Disclaimer**: `matplotlib` is a very capable package, but [has problems](https://phillipmfeldman.org/Python/Python_Limitations.html).\n",
    "- Lack of uniformity among the interfaces to the various functions and methods\n",
    "- The interface puts too much burden on the programmer's memory/reference\n",
    "- Default values are often not sensible - pretty plots tend to require fiddling\n",
    "\n",
    "Nevertheless, `matplotlib` is the most widely used Python plotting library."
   ]
  },
  {
   "cell_type": "markdown",
   "metadata": {
    "slideshow": {
     "slide_type": "slide"
    }
   },
   "source": [
    "## Potential alternatives\n",
    "\n",
    "Potentially covered in future sessions\n",
    "\n",
    "- [plotnine](https://plotnine.readthedocs.io): a grammar of graphics for Python, almost identical to ggplot2\n",
    "- [seaborn](https://seaborn.pydata.org): easy-to-use extension of `matplotlib` providing pretty defaults\n",
    "- [bokeh](https://bokeh.org) or [plotly/dash](https://plotly.com/dash) for interactive visualization\n",
    "- [altair](https://altair-viz.github.io)"
   ]
  },
  {
   "cell_type": "markdown",
   "metadata": {
    "slideshow": {
     "slide_type": "slide"
    }
   },
   "source": [
    "## Importing matplotlib"
   ]
  },
  {
   "cell_type": "code",
   "execution_count": 44,
   "metadata": {
    "slideshow": {
     "slide_type": "-"
    }
   },
   "outputs": [],
   "source": [
    "import matplotlib.pyplot as plt  # by convention, the pyplot interface is imported as plt\n",
    "\n",
    "from numpy.random import default_rng\n",
    "\n",
    "rng = default_rng()"
   ]
  },
  {
   "cell_type": "markdown",
   "metadata": {
    "slideshow": {
     "slide_type": "slide"
    }
   },
   "source": [
    "## Anotomy of a figure\n",
    "\n",
    "Source: https://matplotlib.org/3.1.0/gallery/showcase/anatomy.html\n",
    "\n",
    "<center><img src=\"https://matplotlib.org/_images/anatomy.png\" width=\"60%\"></center>"
   ]
  },
  {
   "cell_type": "markdown",
   "metadata": {
    "slideshow": {
     "slide_type": "slide"
    }
   },
   "source": [
    "## Simple histograms"
   ]
  },
  {
   "cell_type": "code",
   "execution_count": 45,
   "metadata": {
    "slideshow": {
     "slide_type": "-"
    }
   },
   "outputs": [
    {
     "data": {
      "image/png": "[encoded data removed]",
      "text/plain": [
       "<Figure size 432x288 with 1 Axes>"
      ]
     },
     "metadata": {
      "needs_background": "light"
     },
     "output_type": "display_data"
    }
   ],
   "source": [
    "x = rng.normal(size=10 ** 6)\n",
    "\n",
    "plt.hist(x, bins=100)\n",
    "plt.title('Standard normal distribution')\n",
    "plt.xlabel('$X$')  # note: LaTeX can be used with dollar signs\n",
    "plt.show()  # everything until here is plotted in the same figure"
   ]
  },
  {
   "cell_type": "markdown",
   "metadata": {
    "slideshow": {
     "slide_type": "slide"
    }
   },
   "source": [
    "## Simple line charts"
   ]
  },
  {
   "cell_type": "code",
   "execution_count": 46,
   "metadata": {
    "slideshow": {
     "slide_type": "-"
    }
   },
   "outputs": [
    {
     "data": {
      "image/png": "[encoded data removed]",
      "text/plain": [
       "<Figure size 432x288 with 1 Axes>"
      ]
     },
     "metadata": {
      "needs_background": "light"
     },
     "output_type": "display_data"
    }
   ],
   "source": [
    "# note: data points are matched by position in lists\n",
    "x = [0, 1, 2]\n",
    "y = [0, 2, 1]\n",
    "\n",
    "plt.plot(x, y, 'ro--')  # r: red, o: points, --: dashed line\n",
    "plt.xlabel('x')\n",
    "plt.ylabel('y')\n",
    "plt.show()"
   ]
  },
  {
   "cell_type": "markdown",
   "metadata": {
    "slideshow": {
     "slide_type": "slide"
    }
   },
   "source": [
    "## Multi-panel figures"
   ]
  },
  {
   "cell_type": "code",
   "execution_count": 47,
   "metadata": {
    "slideshow": {
     "slide_type": "-"
    }
   },
   "outputs": [
    {
     "data": {
      "image/png": "[encoded data removed]",
      "text/plain": [
       "<Figure size 1152x864 with 4 Axes>"
      ]
     },
     "metadata": {
      "needs_background": "light"
     },
     "output_type": "display_data"
    }
   ],
   "source": [
    "fig, axs = plt.subplots(nrows=2, ncols=2, figsize=(16, 12))\n",
    "\n",
    "x = rng.uniform(size=10 ** 6)\n",
    "axs[0, 0].hist(x, bins=100)\n",
    "axs[0, 0].set_title('Uniform distribution')\n",
    "axs[0, 0].set_xlabel('$X$')\n",
    "\n",
    "x = rng.normal(size=10 ** 6)\n",
    "axs[0, 1].hist(x, bins=100)\n",
    "axs[0, 1].set_title('Standard normal distribution')\n",
    "axs[0, 1].set_xlabel('$X$')\n",
    "\n",
    "x = rng.exponential(size=10 ** 6)\n",
    "axs[1, 0].hist(x, bins=100)\n",
    "axs[1, 0].set_title(r'Exponential distribution ($\\beta = 1$)')\n",
    "axs[1, 0].set_xlabel('$X$')\n",
    "\n",
    "x = rng.binomial(10 ** 6, 0.5, size=10 ** 6)\n",
    "axs[1, 1].hist(x, bins=100)\n",
    "axs[1, 1].set_title(r'Binomial distribution ($n = 10^6, p = 0.5$)')\n",
    "axs[1, 1].set_xlabel('$X$')\n",
    "\n",
    "plt.suptitle('Some important distributions (sample size: $10^6$)')\n",
    "plt.show()"
   ]
  },
  {
   "cell_type": "markdown",
   "metadata": {
    "slideshow": {
     "slide_type": "slide"
    }
   },
   "source": [
    "## Trivia\n"
   ]
  },
  {
   "cell_type": "markdown",
   "metadata": {
    "slideshow": {
     "slide_type": "-"
    }
   },
   "source": [
    "### XKCD\n",
    "\n",
    "`plt.xkcd()` turns on xkcd sketch-style drawing mode.  \n",
    "https://matplotlib.org/gallery/showcase/xkcd.html\n",
    "\n",
    "<center><img src=\"https://matplotlib.org/_images/sphx_glr_xkcd_001.png\" width=\"60%\"></center>"
   ]
  },
  {
   "cell_type": "markdown",
   "metadata": {
    "slideshow": {
     "slide_type": "slide"
    }
   },
   "source": [
    "### Mandelbrot\n",
    "\n",
    "https://matplotlib.org/examples/showcase/mandelbrot.html\n",
    "\n",
    "> The *Mandelbrot set* is the set of complex numbers $c$ for which the function $f_c(z)=z^2+c$ does not diverge when iterated from $z=0$, i.e., for which the sequence $f_c(0)$, $f_c(f_c(0))$, etc., remains bounded in absolute value.\n",
    "\n",
    "<center><img src=\"https://matplotlib.org/_images/mandelbrot.png\" width=\"60%\"></center>"
   ]
  },
  {
   "cell_type": "markdown",
   "metadata": {
    "slideshow": {
     "slide_type": "slide"
    }
   },
   "source": [
    "# Practice material\n",
    "\n",
    "This session: slides & video recording\n",
    "\n",
    "BIO134 Open edX course: Python for Biologists; weeks 1-12\n",
    "\n",
    "Online Python challenge platforms, e.g. https://edabit.com/challenges/python3\n",
    "\n",
    "Online book for reference: http://openbookproject.net/thinkcs/python/english3e\n",
    "\n",
    "Numpy exercises: https://www.w3resource.com/python-exercises/numpy/  \n",
    "Matplotlib exercises: https://www.w3resource.com/graphics/matplotlib/"
   ]
  },
  {
   "cell_type": "markdown",
   "metadata": {
    "slideshow": {
     "slide_type": "slide"
    }
   },
   "source": [
    "# Outlook\n",
    "\n",
    "Next Python session: tabular data with `pandas` and image processing\n",
    "\n",
    "Potential future topics:\n",
    "- Code organization\n",
    "- Version control (Git)\n",
    "- Documentation & testing\n",
    "- Package management & dockerization\n",
    "- Integrated development environments\n",
    "- Pipeline building with `nextflow` `snakemake` `luigi` ...\n",
    "- Relational databases with `sqlalchemy`\n",
    "- Machine learning with `scikit-learn`\n",
    "- Deep learning with `pytorch`\n",
    "- GUI development with `pyqt`\n",
    "- ..."
   ]
  }
 ],
 "metadata": {
  "celltoolbar": "Slideshow",
  "kernelspec": {
   "display_name": "Python 3",
   "language": "python",
   "name": "python3"
  },
  "language_info": {
   "codemirror_mode": {
    "name": "ipython",
    "version": 3
   },
   "file_extension": ".py",
   "mimetype": "text/x-python",
   "name": "python",
   "nbconvert_exporter": "python",
   "pygments_lexer": "ipython3",
   "version": "3.7.7"
  }
 },
 "nbformat": 4,
 "nbformat_minor": 4
}
