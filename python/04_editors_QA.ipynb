{
 "cells": [
  {
   "cell_type": "markdown",
   "metadata": {
    "slideshow": {
     "slide_type": "slide"
    }
   },
   "source": [
    "# Introduction\n",
    "\n",
    "## Recap last session\n",
    "\n",
    "- Some more Python basics:\n",
    "  - String literals\n",
    "  - Advanced for-loops\n",
    "  - File input/output\n",
    "- Tabular data processing with pandas\n",
    "- Image processing example (very brief)"
   ]
  },
  {
   "cell_type": "markdown",
   "metadata": {
    "slideshow": {
     "slide_type": "slide"
    }
   },
   "source": [
    "## Contents of this session\n",
    "\n",
    "- Image processing example (in detail)\n",
    "- Editors for Python programming\n",
    "- Open session:\n",
    "  - Q&A\n",
    "  - Repetition\n",
    "  - Code clinic\n",
    "  - Future topics\n",
    "  - ..."
   ]
  },
  {
   "cell_type": "markdown",
   "metadata": {
    "slideshow": {
     "slide_type": "slide"
    }
   },
   "source": [
    "# Image processing example\n",
    "\n",
    "See last session"
   ]
  },
  {
   "cell_type": "markdown",
   "metadata": {
    "slideshow": {
     "slide_type": "slide"
    }
   },
   "source": [
    "# Editors for Python programming\n",
    "\n",
    "**Important features** of editors:\n",
    "- Syntax highlighting\n",
    "- Code completion\n",
    "- Debugging\n",
    "- Version control\n",
    "- Documentation & test support\n",
    "\n",
    "**Commonly used** development environments:\n",
    "- Python / IPython\n",
    "- Spyder\n",
    "- Jetbrains PyCharm\n",
    "- Jupyter Notebook / Jupyter Lab\n",
    "- General-purpose editors (with plugins)\n",
    "- Command-line editors: Vim\n",
    "\n",
    "Choose your editor based on your task!"
   ]
  },
  {
   "cell_type": "markdown",
   "metadata": {
    "slideshow": {
     "slide_type": "slide"
    }
   },
   "source": [
    "## Python / IPython\n",
    "\n",
    "https://ipython.org/\n",
    "\n",
    "Interactive shells for Python\n",
    "\n",
    "`ipython` can do everything that `python` can do and more:\n",
    "- Syntax highlighting\n",
    "- Code completion\n",
    "- ...\n",
    "\n",
    "Open source, comes pre-packaged with the Anaconda distribution\n",
    "\n",
    "Good for quickly trying out small things or working on the terminal  \n",
    "Interactive shells are not editors - think: \"calculator software\""
   ]
  },
  {
   "cell_type": "markdown",
   "metadata": {
    "slideshow": {
     "slide_type": "slide"
    }
   },
   "source": [
    "## Spyder\n",
    "\n",
    "https://www.spyder-ide.org/\n",
    "\n",
    "The \"RStudio of Python\"\n",
    "\n",
    "> Spyder is a powerful **scientific environment** written in Python, for Python, and designed by and for scientists, engineers and data analysts. It offers a unique combination of the advanced **editing, analysis, debugging, and profiling** functionality of a comprehensive development tool with the **data exploration, interactive execution, deep inspection, and beautiful visualization** capabilities of a scientific package.\n",
    "\n",
    "Open source, comes pre-packaged with the Anaconda distribution\n",
    "\n",
    "Good for beginners & simple data analysis  \n",
    "Not as powerful as other development environments"
   ]
  },
  {
   "cell_type": "markdown",
   "metadata": {
    "slideshow": {
     "slide_type": "slide"
    }
   },
   "source": [
    "## Jetbrains PyCharm\n",
    "\n",
    "https://www.jetbrains.com/pycharm/\n",
    "\n",
    "Professional integrated development environment (IDE) for Python\n",
    "- Powerful coding assistance with good refactoring\n",
    "- Debugging/testing/profiling capabilities\n",
    "- Versioning system (e.g. Git) support\n",
    "- Good integration with Anaconda, virtual environments, Docker, ...\n",
    "- Database editing tools\n",
    "- Jupyter notebook support\n",
    "- ...\n",
    "\n",
    "Free for academic & open source projects\n",
    "\n",
    "Good for large code bases and projects that require heavy debugging"
   ]
  },
  {
   "cell_type": "markdown",
   "metadata": {
    "slideshow": {
     "slide_type": "slide"
    }
   },
   "source": [
    "## Jupyter Notebook / Jupyter Lab\n",
    "\n",
    "https://jupyter.org/\n",
    "\n",
    "Web application for editing Jupyter notebooks\n",
    "\n",
    "Jupyter notebooks: The \"R markdown files for Python\"\n",
    "- Live code (Python, R, ...)\n",
    "- Direct output of visualizations\n",
    "- Markdown: text, equations, ...\n",
    "\n",
    "Open source, Jupyter Notebook comes pre-packaged with the Anaconda distribution  \n",
    "Jupyter Lab (next generation) needs to be installed from PyPI/Anaconda/GitHub\n",
    "\n",
    "Good for (remote) data analysis, visualization (presentations!) and interactive use  \n",
    "Problematic with version control: Jupyter notebooks are data, not code!"
   ]
  },
  {
   "cell_type": "markdown",
   "metadata": {
    "slideshow": {
     "slide_type": "slide"
    }
   },
   "source": [
    "## General-purpose editors (with plugins)\n",
    "\n",
    "Software for coding in a variety of programming languages:\n",
    "- Atom: \"a hackable text editor for the 21st Century\"\n",
    "- Sublime: \"a sophisticated text editor for code, markup and prose\"\n",
    "- Visual Studio Code: open source editor developed by Microsoft\n",
    "- ...\n",
    "\n",
    "Highly customizable and very similar to each other\n",
    "\n",
    "Good when you want to tailor your environment to your needs  \n",
    "Requires more sophisticated setup (i.e., find & install plugins)"
   ]
  },
  {
   "cell_type": "markdown",
   "metadata": {
    "slideshow": {
     "slide_type": "slide"
    }
   },
   "source": [
    "## Command-line editors: Vim\n",
    "\n",
    "https://www.vim.org/\n",
    "\n",
    "Highly configurable command-line text editor\n",
    "\n",
    "Steep learning curve, but: https://vim-adventures.com :-)\n",
    "\n",
    "Good for remote editing & (very) efficient coding\n",
    "\n",
    "Most important competitor: GNU Emacs"
   ]
  },
  {
   "cell_type": "markdown",
   "metadata": {
    "slideshow": {
     "slide_type": "slide"
    }
   },
   "source": [
    "# Open session\n",
    "\n",
    "- Q&A\n",
    "- Repetition\n",
    "- Code clinic\n",
    "- Future topics\n",
    "- ..."
   ]
  }
 ],
 "metadata": {
  "celltoolbar": "Slideshow",
  "kernelspec": {
   "display_name": "Python 3",
   "language": "python",
   "name": "python3"
  },
  "language_info": {
   "codemirror_mode": {
    "name": "ipython",
    "version": 3
   },
   "file_extension": ".py",
   "mimetype": "text/x-python",
   "name": "python",
   "nbconvert_exporter": "python",
   "pygments_lexer": "ipython3",
   "version": "3.7.7"
  }
 },
 "nbformat": 4,
 "nbformat_minor": 4
}
