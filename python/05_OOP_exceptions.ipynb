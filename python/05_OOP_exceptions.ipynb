{
 "cells": [
  {
   "cell_type": "markdown",
   "metadata": {
    "slideshow": {
     "slide_type": "slide"
    }
   },
   "source": [
    "# Introduction\n",
    "\n",
    "## Recap\n",
    "\n",
    "Four (rather packed) sessions:\n",
    "* Python basics\n",
    "* Numpy, matplotlib\n",
    "* Pandas, images\n",
    "* Editors, Q&A"
   ]
  },
  {
   "cell_type": "markdown",
   "metadata": {
    "slideshow": {
     "slide_type": "slide"
    }
   },
   "source": [
    "## Feedback\n",
    "\n",
    "Python sessions ($n=8$):\n",
    "* Useful &ndash; very useful\n",
    "* Level: a bit too advanced\n",
    "* Intermediate to high applicability\n",
    "* Open session was not very popular\n",
    "* Great interest in ML / deep learning\n",
    "* Future attendance (likely) depends on topics\n",
    "\n",
    "--> Shorter sessions, classic format, more examples  \n",
    "New: rounding off featuring a small \"package of the week\""
   ]
  },
  {
   "cell_type": "markdown",
   "metadata": {
    "slideshow": {
     "slide_type": "slide"
    }
   },
   "source": [
    "## Schedule (updated)\n",
    "\n",
    "| Date | Topic\n",
    "| :--- | :---\n",
    "| **01.05.** | Object-oriented programming, exception handling & assertions\n",
    "| **08.05.** | Code organization, package management & virtual environments\n",
    "| 15.05. | Plotting revisited: plotnine, matplotlib, seaborn, dash/plotly, bokeh\n",
    "| 22.05. | Recap & practice &ensp; *alternatively, continue already with*:\n",
    "| ... | Machine learning with Python using scikit-learn <br> Graphs (igraph), single-cell data (scanpy, anndata)\n",
    "\n",
    "**Shared sessions** (date tbd):\n",
    "* Building pipelines using snakemake\n",
    "* Containerization using Docker (tbd)\n"
   ]
  },
  {
   "cell_type": "markdown",
   "metadata": {
    "slideshow": {
     "slide_type": "slide"
    }
   },
   "source": [
    "## This session\n",
    "\n",
    "* String formatting primer\n",
    "* Object-oriented programming\n",
    "* Exception handling & assertions\n",
    "* Package of the week"
   ]
  },
  {
   "cell_type": "markdown",
   "metadata": {
    "slideshow": {
     "slide_type": "slide"
    }
   },
   "source": [
    "# String formatting primer\n",
    "\n",
    "https://pyformat.info/\n",
    "\n",
    "https://realpython.com/python-f-strings/"
   ]
  },
  {
   "cell_type": "code",
   "execution_count": 1,
   "metadata": {
    "slideshow": {
     "slide_type": "-"
    }
   },
   "outputs": [
    {
     "name": "stdout",
     "output_type": "stream",
     "text": [
      "Now: 2020-04-30 21:28:33.148773\n"
     ]
    }
   ],
   "source": [
    "from datetime import datetime\n",
    "\n",
    "now = datetime.now()\n",
    "print(\"Now:\", now)"
   ]
  },
  {
   "cell_type": "code",
   "execution_count": 2,
   "metadata": {
    "slideshow": {
     "slide_type": "-"
    }
   },
   "outputs": [
    {
     "name": "stdout",
     "output_type": "stream",
     "text": [
      "Now: 21:28\n"
     ]
    }
   ],
   "source": [
    "# %-formatting\n",
    "print(\"Now: %d:%d\" % (now.hour, now.minute)) "
   ]
  },
  {
   "cell_type": "code",
   "execution_count": 3,
   "metadata": {
    "slideshow": {
     "slide_type": "-"
    }
   },
   "outputs": [
    {
     "name": "stdout",
     "output_type": "stream",
     "text": [
      "Now: 21:28\n"
     ]
    }
   ],
   "source": [
    "# format strings (Python >= 2.6)\n",
    "print(\"Now: {n:%H}:{n:%M}\".format(n=now))"
   ]
  },
  {
   "cell_type": "code",
   "execution_count": 4,
   "metadata": {
    "slideshow": {
     "slide_type": "-"
    }
   },
   "outputs": [
    {
     "name": "stdout",
     "output_type": "stream",
     "text": [
      "Now: 21:28\n"
     ]
    }
   ],
   "source": [
    "# f-strings (Python >= 3.6)\n",
    "print(f\"Now: {now.hour}:{now.minute}\")"
   ]
  },
  {
   "cell_type": "markdown",
   "metadata": {
    "slideshow": {
     "slide_type": "slide"
    }
   },
   "source": [
    "## Quick peek: regular expressions\n",
    "\n",
    "Regex: sequence of characters that define a search pattern\n",
    "\n",
    "https://regexr.com"
   ]
  },
  {
   "cell_type": "code",
   "execution_count": 5,
   "metadata": {
    "slideshow": {
     "slide_type": "-"
    }
   },
   "outputs": [
    {
     "name": "stdout",
     "output_type": "stream",
     "text": [
      "jonas.windhager@uzh.ch\n"
     ]
    }
   ],
   "source": [
    "import re\n",
    "\n",
    "text = \"My email address is jonas.windhager@uzh.ch, try to extract it!\"\n",
    "\n",
    "pattern = r\"[\\w\\.-]+@[\\w\\.-]+\\.\\w+\"\n",
    "match = re.search(pattern, text)\n",
    "print(match.group())"
   ]
  },
  {
   "cell_type": "markdown",
   "metadata": {
    "slideshow": {
     "slide_type": "slide"
    }
   },
   "source": [
    "# Object-oriented programming\n",
    "\n",
    "Wikipedia:\n",
    "> Object-oriented programming (OOP) is a **programming paradigm based on the concept of \"objects\"**, which can contain data and code. In OOP, computer programs are designed by making them out of objects that interact with one another.\n",
    "\n",
    "Q: *Is it used for data science?*  \n",
    "A: *Yes, it is! In fact, you have been using it already.*\n",
    "\n",
    "Q: *Is it useful for data science? Why do I need to know about it?*  \n",
    "A: *Even if you don't use it explicitly, OOP is used by most third-party packages.*"
   ]
  },
  {
   "cell_type": "markdown",
   "metadata": {
    "slideshow": {
     "slide_type": "slide"
    }
   },
   "source": [
    "## Objects in Python\n",
    "\n",
    "In Python, **everything is an object.**  \n",
    "OOP terminology: &nbsp; *classes* $\\mathrel{\\hat{=}}$ *types* &nbsp; *instances* $\\mathrel{\\hat{=}}$ *objects*"
   ]
  },
  {
   "cell_type": "code",
   "execution_count": 6,
   "metadata": {
    "slideshow": {
     "slide_type": "-"
    }
   },
   "outputs": [
    {
     "name": "stdout",
     "output_type": "stream",
     "text": [
      "hello, world!\n"
     ]
    }
   ],
   "source": [
    "x = \"Hello, World!\" # x points to an object of type str\n",
    "print(x.lower())  # call the object's lower() method"
   ]
  },
  {
   "cell_type": "code",
   "execution_count": 7,
   "metadata": {
    "slideshow": {
     "slide_type": "-"
    }
   },
   "outputs": [
    {
     "name": "stdout",
     "output_type": "stream",
     "text": [
      "Type of x: <class 'str'>\n",
      "Type of the type of x: <class 'type'>\n"
     ]
    }
   ],
   "source": [
    "# even types themselves are objects!\n",
    "t = type(x)\n",
    "print(\"Type of x:\", t)\n",
    "print(\"Type of the type of x:\", type(t))"
   ]
  },
  {
   "cell_type": "code",
   "execution_count": 8,
   "metadata": {
    "slideshow": {
     "slide_type": "-"
    }
   },
   "outputs": [
    {
     "name": "stdout",
     "output_type": "stream",
     "text": [
      "Hello, Jonas!\n"
     ]
    }
   ],
   "source": [
    "# also, functions are objects!\n",
    "def hello(name):\n",
    "    print(f\"Hello, {name}!\")\n",
    "\n",
    "my_hello = hello\n",
    "my_hello(\"Jonas\")"
   ]
  },
  {
   "cell_type": "markdown",
   "metadata": {
    "slideshow": {
     "slide_type": "slide"
    }
   },
   "source": [
    "### Inspecting objects"
   ]
  },
  {
   "cell_type": "code",
   "execution_count": 9,
   "metadata": {
    "slideshow": {
     "slide_type": "-"
    }
   },
   "outputs": [],
   "source": [
    "x = \"Hello, World!\""
   ]
  },
  {
   "cell_type": "code",
   "execution_count": 10,
   "metadata": {
    "slideshow": {
     "slide_type": "-"
    }
   },
   "outputs": [
    {
     "name": "stdout",
     "output_type": "stream",
     "text": [
      "ID of x: 139871589160560\n",
      "Type of x: <class 'str'>\n"
     ]
    }
   ],
   "source": [
    "print(\"ID of x:\", id(x))\n",
    "print(\"Type of x:\", type(x))"
   ]
  },
  {
   "cell_type": "code",
   "execution_count": 11,
   "metadata": {
    "scrolled": true,
    "slideshow": {
     "slide_type": "-"
    }
   },
   "outputs": [
    {
     "name": "stdout",
     "output_type": "stream",
     "text": [
      "Attributes of x: ['__add__', '__class__', '__contains__', '__delattr__', '__dir__', '__doc__', '__eq__', '__format__', '__ge__', '__getattribute__', '__getitem__', '__getnewargs__', '__gt__', '__hash__', '__init__', '__init_subclass__', '__iter__', '__le__', '__len__', '__lt__', '__mod__', '__mul__', '__ne__', '__new__', '__reduce__', '__reduce_ex__', '__repr__', '__rmod__', '__rmul__', '__setattr__', '__sizeof__', '__str__', '__subclasshook__', 'capitalize', 'casefold', 'center', 'count', 'encode', 'endswith', 'expandtabs', 'find', 'format', 'format_map', 'index', 'isalnum', 'isalpha', 'isascii', 'isdecimal', 'isdigit', 'isidentifier', 'islower', 'isnumeric', 'isprintable', 'isspace', 'istitle', 'isupper', 'join', 'ljust', 'lower', 'lstrip', 'maketrans', 'partition', 'replace', 'rfind', 'rindex', 'rjust', 'rpartition', 'rsplit', 'rstrip', 'split', 'splitlines', 'startswith', 'strip', 'swapcase', 'title', 'translate', 'upper', 'zfill']\n"
     ]
    }
   ],
   "source": [
    "print(\"Attributes of x:\", dir(x))"
   ]
  },
  {
   "cell_type": "markdown",
   "metadata": {
    "slideshow": {
     "slide_type": "slide"
    }
   },
   "source": [
    "## Introduction by example: cats"
   ]
  },
  {
   "cell_type": "code",
   "execution_count": 12,
   "metadata": {
    "slideshow": {
     "slide_type": "-"
    }
   },
   "outputs": [
    {
     "name": "stdout",
     "output_type": "stream",
     "text": [
      "Tabby is 2 years old and meows.\n",
      "Dixie is 4 years old and meows.\n"
     ]
    }
   ],
   "source": [
    "from datetime import datetime\n",
    "from dateutil.relativedelta import relativedelta\n",
    "\n",
    "def meow(name, birthday):\n",
    "    age = relativedelta(datetime.today(), birthday)\n",
    "    print(f'{name} is {age.years} years old and meows.')\n",
    "\n",
    "tabby_name = 'Tabby'\n",
    "tabby_birthday = datetime(2017, 10, 12)\n",
    "\n",
    "dixie_name = 'Dixie'\n",
    "dixie_birthday = datetime(2015, 12, 18)\n",
    "\n",
    "meow(tabby_name, tabby_birthday)\n",
    "meow(dixie_name, dixie_birthday)"
   ]
  },
  {
   "cell_type": "code",
   "execution_count": 13,
   "metadata": {
    "slideshow": {
     "slide_type": "slide"
    }
   },
   "outputs": [
    {
     "name": "stdout",
     "output_type": "stream",
     "text": [
      "Tabby is 2 years old and meows.\n",
      "Dixie is 4 years old and meows.\n"
     ]
    }
   ],
   "source": [
    "from datetime import datetime\n",
    "from dateutil.relativedelta import relativedelta\n",
    "\n",
    "def meow(name, birthday):  # only makes sense for cats\n",
    "    age = relativedelta(datetime.today(), birthday)\n",
    "    print(f'{name} is {age.years} years old and meows.')\n",
    "\n",
    "# variables related by name\n",
    "tabby_name = 'Tabby'\n",
    "tabby_birthday = datetime(2017, 10, 12)\n",
    "\n",
    "# same data structure as before\n",
    "dixie_name = 'Dixie'\n",
    "dixie_birthday = datetime(2015, 12, 18)\n",
    "\n",
    "meow(tabby_name, tabby_birthday)\n",
    "meow(dixie_name, dixie_birthday)"
   ]
  },
  {
   "cell_type": "markdown",
   "metadata": {
    "slideshow": {
     "slide_type": "-"
    }
   },
   "source": [
    "### Problems\n",
    "* Related variables of different kind (implicity, verbosity)\n",
    "* Function that only makes sense for specific kind of data"
   ]
  },
  {
   "cell_type": "markdown",
   "metadata": {
    "slideshow": {
     "slide_type": "slide"
    }
   },
   "source": [
    "## Introduction by example: dictionary cats"
   ]
  },
  {
   "cell_type": "code",
   "execution_count": 14,
   "metadata": {
    "slideshow": {
     "slide_type": "-"
    }
   },
   "outputs": [
    {
     "name": "stdout",
     "output_type": "stream",
     "text": [
      "Tabby is 2 years old and meows.\n",
      "Dixie is 4 years old and meows.\n"
     ]
    }
   ],
   "source": [
    "from datetime import datetime\n",
    "from dateutil.relativedelta import relativedelta\n",
    "\n",
    "def meow(cat):  # fewer parameters\n",
    "    age = relativedelta(datetime.today(), cat['birthday'])\n",
    "    print(f'{cat[\"name\"]} is {age.years} years old and meows.')\n",
    "\n",
    "# related information stored in same data structure\n",
    "tabby = {'name': 'Tabby', 'birthday': datetime(2017, 10, 12)}\n",
    "dixie = {'name': 'Dixie', 'birthday': datetime(2015, 12, 18)}\n",
    "\n",
    "meow(tabby)\n",
    "meow(dixie)"
   ]
  },
  {
   "cell_type": "code",
   "execution_count": 15,
   "metadata": {
    "slideshow": {
     "slide_type": "slide"
    }
   },
   "outputs": [
    {
     "name": "stdout",
     "output_type": "stream",
     "text": [
      "Tabby is 2 years old and meows.\n",
      "Dixie is 4 years old and meows.\n"
     ]
    }
   ],
   "source": [
    "from datetime import datetime\n",
    "from dateutil.relativedelta import relativedelta\n",
    "\n",
    "def meow(cat):  # still only makes sense for cats\n",
    "    age = relativedelta(datetime.today(), cat['birthday'])\n",
    "    print(f'{cat[\"name\"]} is {age.years} years old and meows.')\n",
    "\n",
    "# data of different kinds is stored in dictionaries\n",
    "tabby = {'name': 'Tabby', 'birthday': datetime(2017, 10, 12)}\n",
    "dixie = {'name': 'Dixie', 'birthday': datetime(2015, 12, 18)}\n",
    "\n",
    "meow(tabby)\n",
    "meow(dixie)"
   ]
  },
  {
   "cell_type": "markdown",
   "metadata": {
    "slideshow": {
     "slide_type": "-"
    }
   },
   "source": [
    "### Problems\n",
    "\n",
    "* Leass readable, more clutter\n",
    "* Hidden assumptions wrt. data structure\n",
    "* Sequence types should not store data of different kinds\n",
    "* IDE features such as syntax error detection, code completion and refactoring don't play well with \"object dictionaries\" (dictionary items used like variables)"
   ]
  },
  {
   "cell_type": "markdown",
   "metadata": {
    "slideshow": {
     "slide_type": "slide"
    }
   },
   "source": [
    "## Introduction by example: object-oriented cats"
   ]
  },
  {
   "cell_type": "code",
   "execution_count": 16,
   "metadata": {
    "slideshow": {
     "slide_type": "-"
    }
   },
   "outputs": [
    {
     "name": "stdout",
     "output_type": "stream",
     "text": [
      "Tabby is 2 years old and meows.\n",
      "Dixie is 4 years old and meows.\n"
     ]
    }
   ],
   "source": [
    "class Cat:    \n",
    "    def __init__(self, name, birthday):\n",
    "        self.name = name\n",
    "        self.birthday = birthday\n",
    "        \n",
    "    def meow(self):\n",
    "        age = relativedelta(datetime.today(), self.birthday)\n",
    "        print(f'{self.name} is {age.years} years old and meows.')\n",
    "        \n",
    "tabby = Cat('Tabby', datetime(2017, 10, 12))\n",
    "dixie = Cat('Dixie', datetime(2015, 12, 18))\n",
    "tabby.meow()\n",
    "dixie.meow()"
   ]
  },
  {
   "cell_type": "markdown",
   "metadata": {
    "slideshow": {
     "slide_type": "slide"
    }
   },
   "source": [
    "### Classes, attributes & methods"
   ]
  },
  {
   "cell_type": "code",
   "execution_count": 17,
   "metadata": {
    "slideshow": {
     "slide_type": "-"
    }
   },
   "outputs": [],
   "source": [
    "class Cat:  # class: \"blueprint for instances\"   \n",
    "    def __init__(self, name, birthday):  # initializer\n",
    "        self.name = name          # attributes: specific to object\n",
    "        self.birthday = birthday  # (self points to the current object)\n",
    "        \n",
    "    def meow(self):  # method: function associated with object\n",
    "        age = relativedelta(datetime.today(), self.birthday)\n",
    "        print(f'{self.name} is {age.years} years old and meows.')"
   ]
  },
  {
   "cell_type": "code",
   "execution_count": 18,
   "metadata": {
    "slideshow": {
     "slide_type": "-"
    }
   },
   "outputs": [
    {
     "name": "stdout",
     "output_type": "stream",
     "text": [
      "Types of Tabby and Dixie: <class '__main__.Cat'> <class '__main__.Cat'>\n"
     ]
    }
   ],
   "source": [
    "# create instances of class Cat\n",
    "tabby = Cat('Tabby', datetime(2017, 10, 12))\n",
    "dixie = Cat('Dixie', datetime(2015, 12, 18))\n",
    "print('Types of Tabby and Dixie:', type(tabby), type(dixie))"
   ]
  },
  {
   "cell_type": "code",
   "execution_count": 19,
   "metadata": {
    "slideshow": {
     "slide_type": "-"
    }
   },
   "outputs": [
    {
     "name": "stdout",
     "output_type": "stream",
     "text": [
      "Tabby\n"
     ]
    }
   ],
   "source": [
    "# access instance attribute\n",
    "print(tabby.name)"
   ]
  },
  {
   "cell_type": "code",
   "execution_count": 20,
   "metadata": {
    "slideshow": {
     "slide_type": "-"
    }
   },
   "outputs": [
    {
     "name": "stdout",
     "output_type": "stream",
     "text": [
      "Dixie is 4 years old and meows.\n"
     ]
    }
   ],
   "source": [
    "# call instance method\n",
    "dixie.meow()"
   ]
  },
  {
   "cell_type": "markdown",
   "metadata": {
    "slideshow": {
     "slide_type": "slide"
    }
   },
   "source": [
    "### Class attributes & static methods"
   ]
  },
  {
   "cell_type": "code",
   "execution_count": 21,
   "metadata": {
    "slideshow": {
     "slide_type": "-"
    }
   },
   "outputs": [],
   "source": [
    "class Cat:\n",
    "    count = 0  # class attribute: same for all instances\n",
    "    \n",
    "    def __init__(self, name, birthday):\n",
    "        self.name = name\n",
    "        self.birthday = birthday\n",
    "        Cat.count += 1\n",
    "        \n",
    "    def meow(self):\n",
    "        age = relativedelta(datetime.today(), self.birthday)\n",
    "        print(f'{self.name} is {age.years} years old and meows.')\n",
    "        \n",
    "    @staticmethod  # decorator (syntactic sugar)\n",
    "    def kill_all():  # static method: function associated with class\n",
    "        Cat.count = 0"
   ]
  },
  {
   "cell_type": "code",
   "execution_count": 22,
   "metadata": {
    "slideshow": {
     "slide_type": "-"
    }
   },
   "outputs": [],
   "source": [
    "tabby = Cat('Tabby', datetime(2017, 10, 12))\n",
    "dixie = Cat('Dixie', datetime(2015, 12, 18))"
   ]
  },
  {
   "cell_type": "code",
   "execution_count": 23,
   "metadata": {
    "slideshow": {
     "slide_type": "-"
    }
   },
   "outputs": [
    {
     "name": "stdout",
     "output_type": "stream",
     "text": [
      "2\n",
      "0\n"
     ]
    }
   ],
   "source": [
    "print(Cat.count)\n",
    "Cat.kill_all()\n",
    "print(Cat.count)"
   ]
  },
  {
   "cell_type": "markdown",
   "metadata": {
    "slideshow": {
     "slide_type": "slide"
    }
   },
   "source": [
    "### Inheritance"
   ]
  },
  {
   "cell_type": "code",
   "execution_count": 24,
   "metadata": {
    "slideshow": {
     "slide_type": "-"
    }
   },
   "outputs": [],
   "source": [
    "class MovieCat(Cat):  # class Cat defined before\n",
    "    def __init__(self, name, birthday, movie):\n",
    "        super(MovieCat, self).__init__(name, birthday)  # call parent initializer\n",
    "        self.movie = movie\n",
    "        \n",
    "    def act(self):\n",
    "        print(f'{self.name} is playing in {self.movie}.')"
   ]
  },
  {
   "cell_type": "code",
   "execution_count": 25,
   "metadata": {
    "slideshow": {
     "slide_type": "-"
    }
   },
   "outputs": [
    {
     "name": "stdout",
     "output_type": "stream",
     "text": [
      "Type of Norris: <class '__main__.MovieCat'>\n",
      "Is Norris a Cat? True\n"
     ]
    }
   ],
   "source": [
    "norris = MovieCat('Mrs. Norris', datetime(1990, 11, 23), 'Harry Potter')\n",
    "print('Type of Norris:', type(norris))\n",
    "print('Is Norris a Cat?', isinstance(norris, Cat))"
   ]
  },
  {
   "cell_type": "code",
   "execution_count": 26,
   "metadata": {
    "slideshow": {
     "slide_type": "-"
    }
   },
   "outputs": [
    {
     "name": "stdout",
     "output_type": "stream",
     "text": [
      "Mrs. Norris\n",
      "Mrs. Norris is 29 years old and meows.\n"
     ]
    }
   ],
   "source": [
    "print(norris.name)\n",
    "norris.meow()"
   ]
  },
  {
   "cell_type": "code",
   "execution_count": 27,
   "metadata": {
    "slideshow": {
     "slide_type": "-"
    }
   },
   "outputs": [
    {
     "name": "stdout",
     "output_type": "stream",
     "text": [
      "Harry Potter\n",
      "Mrs. Norris is playing in Harry Potter.\n"
     ]
    }
   ],
   "source": [
    "print(norris.movie)\n",
    "norris.act()"
   ]
  },
  {
   "cell_type": "markdown",
   "metadata": {
    "slideshow": {
     "slide_type": "slide"
    }
   },
   "source": [
    "### Magic methods\n",
    "\n",
    "Magic methods add \"magic\" to Python classes.\n",
    "\n",
    "See [Python 3 Data Model](https://docs.python.org/3/reference/datamodel.html) and [A Guide to Python's Magic Methods](https://rszalski.github.io/magicmethods)"
   ]
  },
  {
   "cell_type": "code",
   "execution_count": 28,
   "metadata": {
    "slideshow": {
     "slide_type": "-"
    }
   },
   "outputs": [],
   "source": [
    "class SizedCat(Cat):\n",
    "    def __init__(self, name, birthday, size):\n",
    "        super(SizedCat, self).__init__(name, birthday)\n",
    "        self.size = size\n",
    "    \n",
    "    def __str__(self):\n",
    "        return f'{self.name} (size: {self.size} cm)'\n",
    "    \n",
    "    def __lt__(self, other):\n",
    "        return self.size < other.size"
   ]
  },
  {
   "cell_type": "code",
   "execution_count": 29,
   "metadata": {
    "slideshow": {
     "slide_type": "-"
    }
   },
   "outputs": [
    {
     "name": "stdout",
     "output_type": "stream",
     "text": [
      "Is Mrs. Norris (size: 25 cm) larger than Mufasa (size: 120 cm)? False\n"
     ]
    }
   ],
   "source": [
    "small_cat = SizedCat('Mrs. Norris', datetime(1990, 11, 23), 25)\n",
    "large_cat = SizedCat('Mufasa', datetime(1980, 12, 13), 120)\n",
    "print(f'Is {small_cat} larger than {large_cat}?', small_cat > large_cat)"
   ]
  },
  {
   "cell_type": "markdown",
   "metadata": {
    "slideshow": {
     "slide_type": "slide"
    }
   },
   "source": [
    "### Properties\n",
    "\n",
    "Properties turn functions into dynamically computed attributes.\n",
    "\n",
    "<font color=\"grey\">Note: don't write getters/setters in Python, use properties instead.</font>"
   ]
  },
  {
   "cell_type": "code",
   "execution_count": 30,
   "metadata": {
    "slideshow": {
     "slide_type": "-"
    }
   },
   "outputs": [
    {
     "name": "stdout",
     "output_type": "stream",
     "text": [
      "29\n"
     ]
    }
   ],
   "source": [
    "class LazyCat(Cat):\n",
    "    def __init__(self, name, birthday):\n",
    "        super(LazyCat, self).__init__(name, birthday)\n",
    "        \n",
    "    @property\n",
    "    def age(self):\n",
    "        return relativedelta(datetime.today(), self.birthday)\n",
    "    \n",
    "jonas = LazyCat('Jonas', datetime(1991, 1, 19))\n",
    "print(jonas.age.years)"
   ]
  },
  {
   "cell_type": "markdown",
   "metadata": {
    "slideshow": {
     "slide_type": "slide"
    }
   },
   "source": [
    "## Real-world examples\n",
    "\n",
    "In previous sessions, we used the following classes, among others:\n",
    "* Built-in types `int` `str` ...\n",
    "* Numpy arrays `numpy.ndarray`\n",
    "* Matplotlib [Figure](https://github.com/matplotlib/matplotlib/blob/master/lib/matplotlib/figure.py#L219), [Axes](https://github.com/matplotlib/matplotlib/blob/master/lib/matplotlib/axes/_axes.py#L71), ...\n",
    "* Pandas [DataFrame](https://github.com/pandas-dev/pandas/blob/master/pandas/core/frame.py#L336) & [Series](https://github.com/pandas-dev/pandas/blob/master/pandas/core/series.py#L141)\n",
    "* Scikit-learn's [GaussianMixture](https://github.com/scikit-learn/scikit-learn/blob/master/sklearn/mixture/_gaussian_mixture.py#L434)\n",
    "* ..."
   ]
  },
  {
   "cell_type": "markdown",
   "metadata": {
    "slideshow": {
     "slide_type": "slide"
    }
   },
   "source": [
    "## Custom classes\n",
    "\n",
    "Disclaimer: it's like French grammar &ndash; to every rule there is an exception.  \n",
    "When to create custom classes is a design choice heavily based on experience.\n",
    "\n",
    "### Some rules of thumb\n",
    "\n",
    "<font color=\"red\">Simplicity, readability and practicality count!</font> &nbsp; `import this`\n",
    "\n",
    "> If it looks like a duck and quacks like a duck, it's a duck.\n",
    "\n",
    "If you only need to encapsulate functionality (and not data/states), use a function.\n",
    "\n",
    "Create classes only when built-in data types such as tuples are **not sufficient to represent your data**, e.g. do not create a custom 3DPoint class (use tuples instead).\n",
    "\n",
    "Create classes for **related data of different kinds** and/or **functions that act on that data**.\n",
    "\n",
    "**Reuse existing classes** (e.g. from other packages). When creating custom classes, ensure that the classes work well together with the main packages used in your project."
   ]
  },
  {
   "cell_type": "markdown",
   "metadata": {
    "slideshow": {
     "slide_type": "slide"
    }
   },
   "source": [
    "### Example use cases\n",
    "\n",
    "A selection of use cases for which I used custom classes in the past:\n",
    "* Cats :-)\n",
    "* File readers\n",
    "* Neural network models\n",
    "* Customizing third-party packages\n",
    "* Implementing extensions, e.g. CellProfile modules\n",
    "* Working with third-party packages, e.g. deep learning\n",
    "* Interactive notebooks & graphical user interfaces (GUIs)"
   ]
  },
  {
   "cell_type": "markdown",
   "metadata": {
    "slideshow": {
     "slide_type": "slide"
    }
   },
   "source": [
    "## Remarks\n",
    "\n",
    "My advice: keep OOP in mind, but only start using it when you have a use case.\n",
    "\n",
    "Not covered in this Python sessions:\n",
    "* Abstract base classes (ABC)\n",
    "* Multiple inheritance & method resolution order (MRO)\n",
    "* OOP design patterns, e.g. proposed by Gang of Four (GoF)\n",
    "* ..."
   ]
  },
  {
   "cell_type": "markdown",
   "metadata": {
    "slideshow": {
     "slide_type": "slide"
    }
   },
   "source": [
    "# Exception handling & assertions\n",
    "\n",
    "https://docs.python.org/3/tutorial/errors.html"
   ]
  },
  {
   "cell_type": "code",
   "execution_count": 31,
   "metadata": {
    "slideshow": {
     "slide_type": "-"
    }
   },
   "outputs": [
    {
     "ename": "SyntaxError",
     "evalue": "invalid syntax (<ipython-input-31-59c2c7fcf9f8>, line 2)",
     "output_type": "error",
     "traceback": [
      "\u001b[0;36m  File \u001b[0;32m\"<ipython-input-31-59c2c7fcf9f8>\"\u001b[0;36m, line \u001b[0;32m2\u001b[0m\n\u001b[0;31m    message = 'Don't'\u001b[0m\n\u001b[0m                   ^\u001b[0m\n\u001b[0;31mSyntaxError\u001b[0m\u001b[0;31m:\u001b[0m invalid syntax\n"
     ]
    }
   ],
   "source": [
    "# syntax errors: Python won't execute the code\n",
    "message = 'Don't'"
   ]
  },
  {
   "cell_type": "code",
   "execution_count": 32,
   "metadata": {
    "slideshow": {
     "slide_type": "-"
    }
   },
   "outputs": [
    {
     "ename": "ZeroDivisionError",
     "evalue": "division by zero",
     "output_type": "error",
     "traceback": [
      "\u001b[0;31m---------------------------------------------------------------------------\u001b[0m",
      "\u001b[0;31mZeroDivisionError\u001b[0m                         Traceback (most recent call last)",
      "\u001b[0;32m<ipython-input-32-7e6652ad207f>\u001b[0m in \u001b[0;36m<module>\u001b[0;34m\u001b[0m\n\u001b[1;32m      1\u001b[0m \u001b[0;31m# exceptions: anomalous or exceptional conditions during execution\u001b[0m\u001b[0;34m\u001b[0m\u001b[0;34m\u001b[0m\u001b[0;34m\u001b[0m\u001b[0m\n\u001b[0;32m----> 2\u001b[0;31m \u001b[0mx\u001b[0m \u001b[0;34m=\u001b[0m \u001b[0;36m12\u001b[0m \u001b[0;34m/\u001b[0m \u001b[0;36m0\u001b[0m\u001b[0;34m\u001b[0m\u001b[0;34m\u001b[0m\u001b[0m\n\u001b[0m",
      "\u001b[0;31mZeroDivisionError\u001b[0m: division by zero"
     ]
    }
   ],
   "source": [
    "# exceptions: anomalous or exceptional conditions during execution\n",
    "x = 12 / 0"
   ]
  },
  {
   "cell_type": "markdown",
   "metadata": {
    "slideshow": {
     "slide_type": "slide"
    }
   },
   "source": [
    "## Handling exceptions\n",
    "\n",
    "In Python, *exceptions* are instances of a class that derives from `BaseException`."
   ]
  },
  {
   "cell_type": "code",
   "execution_count": 33,
   "metadata": {
    "slideshow": {
     "slide_type": "-"
    }
   },
   "outputs": [
    {
     "name": "stdout",
     "output_type": "stream",
     "text": [
      "Oops, dividing by zero!\n",
      "This line will be executed.\n"
     ]
    }
   ],
   "source": [
    "try:\n",
    "    x = 12 / 0\n",
    "except ZeroDivisionError:\n",
    "    print(\"Oops, dividing by zero!\")\n",
    "\n",
    "print(\"This line will be executed.\")"
   ]
  },
  {
   "cell_type": "markdown",
   "metadata": {
    "slideshow": {
     "slide_type": "-"
    }
   },
   "source": [
    "Most commonly used for checking user input, e.g. to catch errors while reading files.\n",
    "\n",
    "Built-in exception types: https://docs.python.org/3.7/library/exceptions.html"
   ]
  },
  {
   "cell_type": "markdown",
   "metadata": {
    "slideshow": {
     "slide_type": "slide"
    }
   },
   "source": [
    "## Raising exceptions"
   ]
  },
  {
   "cell_type": "code",
   "execution_count": 34,
   "metadata": {
    "slideshow": {
     "slide_type": "-"
    }
   },
   "outputs": [
    {
     "name": "stdout",
     "output_type": "stream",
     "text": [
      "x is negative\n"
     ]
    }
   ],
   "source": [
    "def real_sqrt(x):\n",
    "    if x < 0:\n",
    "        raise ValueError('x is negative')\n",
    "    return x ** 0.5\n",
    "\n",
    "try:\n",
    "    r = real_sqrt(-3)\n",
    "except ValueError as e:\n",
    "    print(e)"
   ]
  },
  {
   "cell_type": "markdown",
   "metadata": {
    "slideshow": {
     "slide_type": "slide"
    }
   },
   "source": [
    "## Custom exceptions"
   ]
  },
  {
   "cell_type": "code",
   "execution_count": 35,
   "metadata": {
    "slideshow": {
     "slide_type": "-"
    }
   },
   "outputs": [
    {
     "name": "stdout",
     "output_type": "stream",
     "text": [
      "The number is negative\n"
     ]
    }
   ],
   "source": [
    "class NegativeNumberException(Exception):\n",
    "    pass\n",
    "\n",
    "def real_sqrt(x):\n",
    "    if x < 0:\n",
    "        raise NegativeNumberException()\n",
    "    return x ** 0.5\n",
    "\n",
    "try:\n",
    "    r = real_sqrt(-3)\n",
    "except NegativeNumberException:\n",
    "    print(\"The number is negative\")"
   ]
  },
  {
   "cell_type": "markdown",
   "metadata": {
    "slideshow": {
     "slide_type": "slide"
    }
   },
   "source": [
    "## Clean-up actions"
   ]
  },
  {
   "cell_type": "code",
   "execution_count": 36,
   "metadata": {
    "slideshow": {
     "slide_type": "-"
    }
   },
   "outputs": [
    {
     "name": "stdout",
     "output_type": "stream",
     "text": [
      "Oops, dividing by zero!\n",
      "This will be executed, no matter what.\n"
     ]
    }
   ],
   "source": [
    "try:\n",
    "    x = 12 / 0\n",
    "except ZeroDivisionError:\n",
    "    print(\"Oops, dividing by zero!\")\n",
    "finally:\n",
    "    print(\"This will be executed, no matter what.\")"
   ]
  },
  {
   "cell_type": "markdown",
   "metadata": {
    "slideshow": {
     "slide_type": "slide"
    }
   },
   "source": [
    "Useful e.g. for file operations:"
   ]
  },
  {
   "cell_type": "code",
   "execution_count": 37,
   "metadata": {
    "slideshow": {
     "slide_type": "-"
    }
   },
   "outputs": [],
   "source": [
    "f = open('../Data/iris.csv')\n",
    "try:\n",
    "    pass  # read file\n",
    "except IOError as e:\n",
    "    print(\"Error reading file:\", e)\n",
    "finally:\n",
    "    f.close()"
   ]
  },
  {
   "cell_type": "markdown",
   "metadata": {
    "slideshow": {
     "slide_type": "-"
    }
   },
   "source": [
    "Note: if possible, use context managers (`with`) instead, see [session 3](https://github.com/BodenmillerGroup/IntroDataAnalysis/blob/master/python/03_pandas_images.ipynb)."
   ]
  },
  {
   "cell_type": "markdown",
   "metadata": {
    "slideshow": {
     "slide_type": "slide"
    }
   },
   "source": [
    "## Assertions"
   ]
  },
  {
   "cell_type": "code",
   "execution_count": 38,
   "metadata": {
    "slideshow": {
     "slide_type": "-"
    }
   },
   "outputs": [
    {
     "ename": "AssertionError",
     "evalue": "x is negative",
     "output_type": "error",
     "traceback": [
      "\u001b[0;31m---------------------------------------------------------------------------\u001b[0m",
      "\u001b[0;31mAssertionError\u001b[0m                            Traceback (most recent call last)",
      "\u001b[0;32m<ipython-input-38-1973144b2a82>\u001b[0m in \u001b[0;36m<module>\u001b[0;34m\u001b[0m\n\u001b[1;32m      6\u001b[0m     \u001b[0;32mreturn\u001b[0m \u001b[0mx\u001b[0m \u001b[0;34m**\u001b[0m \u001b[0;36m0.5\u001b[0m\u001b[0;34m\u001b[0m\u001b[0;34m\u001b[0m\u001b[0m\n\u001b[1;32m      7\u001b[0m \u001b[0;34m\u001b[0m\u001b[0m\n\u001b[0;32m----> 8\u001b[0;31m \u001b[0mreal_sqrt\u001b[0m\u001b[0;34m(\u001b[0m\u001b[0;34m-\u001b[0m\u001b[0;36m3\u001b[0m\u001b[0;34m)\u001b[0m\u001b[0;34m\u001b[0m\u001b[0;34m\u001b[0m\u001b[0m\n\u001b[0m",
      "\u001b[0;32m<ipython-input-38-1973144b2a82>\u001b[0m in \u001b[0;36mreal_sqrt\u001b[0;34m(x)\u001b[0m\n\u001b[1;32m      1\u001b[0m \u001b[0;32mdef\u001b[0m \u001b[0mreal_sqrt\u001b[0m\u001b[0;34m(\u001b[0m\u001b[0mx\u001b[0m\u001b[0;34m)\u001b[0m\u001b[0;34m:\u001b[0m\u001b[0;34m\u001b[0m\u001b[0;34m\u001b[0m\u001b[0m\n\u001b[0;32m----> 2\u001b[0;31m     \u001b[0;32massert\u001b[0m \u001b[0mx\u001b[0m \u001b[0;34m>=\u001b[0m \u001b[0;36m0\u001b[0m\u001b[0;34m,\u001b[0m \u001b[0;34m\"x is negative\"\u001b[0m\u001b[0;34m\u001b[0m\u001b[0;34m\u001b[0m\u001b[0m\n\u001b[0m\u001b[1;32m      3\u001b[0m     \u001b[0;31m# equivalent to:\u001b[0m\u001b[0;34m\u001b[0m\u001b[0;34m\u001b[0m\u001b[0;34m\u001b[0m\u001b[0m\n\u001b[1;32m      4\u001b[0m     \u001b[0;31m# if __debug__ and not x >= 0:\u001b[0m\u001b[0;34m\u001b[0m\u001b[0;34m\u001b[0m\u001b[0;34m\u001b[0m\u001b[0m\n\u001b[1;32m      5\u001b[0m     \u001b[0;31m#     raise AssertionError(\"x is negative\")\u001b[0m\u001b[0;34m\u001b[0m\u001b[0;34m\u001b[0m\u001b[0;34m\u001b[0m\u001b[0m\n",
      "\u001b[0;31mAssertionError\u001b[0m: x is negative"
     ]
    }
   ],
   "source": [
    "def real_sqrt(x):\n",
    "    assert x >= 0, \"x is negative\"\n",
    "    # equivalent to:\n",
    "    # if __debug__ and not x >= 0:\n",
    "    #     raise AssertionError(\"x is negative\")\n",
    "    return x ** 0.5\n",
    "\n",
    "real_sqrt(-3)"
   ]
  },
  {
   "cell_type": "markdown",
   "metadata": {
    "slideshow": {
     "slide_type": "slide"
    }
   },
   "source": [
    "## Best practices"
   ]
  },
  {
   "cell_type": "markdown",
   "metadata": {
    "slideshow": {
     "slide_type": "-"
    }
   },
   "source": [
    "* Don't overuse exceptions\n",
    "* Check user input using exceptions\n",
    "* Use built-in exceptions unless you really custom exception types\n",
    "* Use `assert` for debugging (only for conditions that should never occur)\n",
    "* If possible, use `with` instead of try-finally for file operations"
   ]
  },
  {
   "cell_type": "markdown",
   "metadata": {
    "slideshow": {
     "slide_type": "slide"
    }
   },
   "source": [
    "# Package of the week: tqdm"
   ]
  },
  {
   "cell_type": "code",
   "execution_count": 39,
   "metadata": {
    "slideshow": {
     "slide_type": "-"
    }
   },
   "outputs": [
    {
     "data": {
      "application/vnd.jupyter.widget-view+json": {
       "model_id": "6e3671fd40fb4d0bb619bcb8e8ba6054",
       "version_major": 2,
       "version_minor": 0
      },
      "text/plain": [
       "HBox(children=(FloatProgress(value=0.0), HTML(value='')))"
      ]
     },
     "metadata": {},
     "output_type": "display_data"
    },
    {
     "name": "stdout",
     "output_type": "stream",
     "text": [
      "\n"
     ]
    }
   ],
   "source": [
    "from time import sleep\n",
    "# from tqdm import tqdm\n",
    "from tqdm.notebook import tqdm\n",
    "\n",
    "for i in tqdm(range(100)):\n",
    "    sleep(.1)  # Sleep for 100 ms"
   ]
  },
  {
   "cell_type": "markdown",
   "metadata": {
    "slideshow": {
     "slide_type": "slide"
    }
   },
   "source": [
    "# Next session\n",
    "\n",
    "May 8, 2020, 10.00 am\n",
    "\n",
    "Code organization, package management & virtual environments"
   ]
  }
 ],
 "metadata": {
  "celltoolbar": "Slideshow",
  "kernelspec": {
   "display_name": "Python 3",
   "language": "python",
   "name": "python3"
  },
  "language_info": {
   "codemirror_mode": {
    "name": "ipython",
    "version": 3
   },
   "file_extension": ".py",
   "mimetype": "text/x-python",
   "name": "python",
   "nbconvert_exporter": "python",
   "pygments_lexer": "ipython3",
   "version": "3.7.7"
  }
 },
 "nbformat": 4,
 "nbformat_minor": 4
}
